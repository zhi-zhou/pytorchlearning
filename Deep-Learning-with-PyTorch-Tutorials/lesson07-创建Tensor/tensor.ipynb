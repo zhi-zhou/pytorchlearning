{
 "cells": [
  {
   "cell_type": "code",
   "execution_count": 13,
   "metadata": {
    "collapsed": true,
    "pycharm": {
     "is_executing": false
    }
   },
   "outputs": [
    {
     "name": "stdout",
     "text": [
      "torch.FloatTensor\nTrue\ntensor([[-1.3916,  0.4832,  1.0558],\n        [-0.7756,  1.0993, -0.3350]])\n"
     ],
     "output_type": "stream"
    }
   ],
   "source": [
    "import torch"
   ]
  },
  {
   "cell_type": "code",
   "execution_count": 6,
   "outputs": [
    {
     "data": {
      "text/plain": "torch.Size([])"
     },
     "metadata": {},
     "output_type": "execute_result",
     "execution_count": 6
    }
   ],
   "source": [
    "# 标量1\n",
    "a = torch.tensor(1.2)\n",
    "a.shape\n",
    "len(a.shape)\n",
    "a.size()"
   ],
   "metadata": {
    "collapsed": false,
    "pycharm": {
     "name": "#%%\n",
     "is_executing": false
    }
   }
  },
  {
   "cell_type": "code",
   "execution_count": 9,
   "outputs": [],
   "source": [
    "# 标量的shape = 0， 没有维度\n",
    "# 张量的有维度\n",
    "# dim = 1\n",
    "a = torch.tensor([1.1])\n",
    "b = torch.tensor([1.1, 1.2])\n",
    "c = torch.FloatTensor(1)\n",
    "d = torch.FloatTensor(2)\n",
    "import numpy as np\n",
    "data = np.ones(2)\n",
    "tensor_data = torch.from_numpy(data)\n",
    "# torch.tensor 接受具体的数据\n",
    "# torch.FloatTensor 接受指定的维度，随机生成数据\n",
    "\n",
    "# 这种 dim=1 的张量一般用于表示 bias"
   ],
   "metadata": {
    "collapsed": false,
    "pycharm": {
     "name": "#%%\n",
     "is_executing": false
    }
   }
  },
  {
   "cell_type": "code",
   "execution_count": 12,
   "outputs": [
    {
     "name": "stdout",
     "text": [
      "torch.Size([2])\ntorch.Size([2])\ntensor([1., 1.])\n"
     ],
     "output_type": "stream"
    }
   ],
   "source": [
    "a = torch.ones(2)\n",
    "print(a.shape)\n",
    "print(a.size())\n",
    "print(a)\n"
   ],
   "metadata": {
    "collapsed": false,
    "pycharm": {
     "name": "#%%\n",
     "is_executing": false
    }
   }
  },
  {
   "cell_type": "code",
   "execution_count": 14,
   "outputs": [
    {
     "name": "stdout",
     "text": [
      "torch.FloatTensor\nTrue\ntensor([[ 1.2848, -0.7604, -0.2026],\n        [ 0.7372,  2.0000, -0.9836]])\n2\n3\n3\n"
     ],
     "output_type": "stream"
    }
   ],
   "source": [
    "# dim = 2\n",
    "# 2*3 张量\n",
    "a = torch.randn(2,3)\n",
    "print(a.type())\n",
    "print(isinstance(a, torch.FloatTensor))\n",
    "print(a)\n",
    "print(a.size(0))\n",
    "print(a.size(1))\n",
    "print(a.shape[1])"
   ],
   "metadata": {
    "collapsed": false,
    "pycharm": {
     "name": "#%%\n",
     "is_executing": false
    }
   }
  },
  {
   "cell_type": "code",
   "execution_count": 15,
   "outputs": [
    {
     "name": "stdout",
     "text": [
      "torch.Size([1, 2, 3])\ntensor([[[ 1.7942,  0.0869, -1.0131],\n         [ 0.1038, -0.5450,  0.7466]]])\n"
     ],
     "output_type": "stream"
    }
   ],
   "source": [
    "# dim = 3  3维张量\n",
    "# 三维张量一般用于  RNN  input batch:  \n",
    "# 一句话10个单词，每个单词编码为100维向量，10*100.   每次送入20句话  20*10*100\n",
    "a =  torch.randn(1,2,3)\n",
    "print(a.shape)\n",
    "print(a)"
   ],
   "metadata": {
    "collapsed": false,
    "pycharm": {
     "name": "#%%\n",
     "is_executing": false
    }
   }
  },
  {
   "cell_type": "code",
   "execution_count": 16,
   "outputs": [
    {
     "name": "stdout",
     "text": [
      "torch.Size([2, 3, 28, 28])\n"
     ],
     "output_type": "stream"
    }
   ],
   "source": [
    "# dim = 4 4维张量，适用于图片类型 CNN (b, c, h, w)  batch, 通道数，长和宽\n",
    "a = torch.rand(2,3,28,28)\n",
    "print (a.shape)\n"
   ],
   "metadata": {
    "collapsed": false,
    "pycharm": {
     "name": "#%%\n",
     "is_executing": false
    }
   }
  },
  {
   "cell_type": "code",
   "execution_count": null,
   "outputs": [],
   "source": [
    "# 创建 tensor\n"
   ],
   "metadata": {
    "collapsed": false,
    "pycharm": {
     "name": "#%%\n"
    }
   }
  }
 ],
 "metadata": {
  "kernelspec": {
   "display_name": "Python 3",
   "language": "python",
   "name": "python3"
  },
  "language_info": {
   "codemirror_mode": {
    "name": "ipython",
    "version": 2
   },
   "file_extension": ".py",
   "mimetype": "text/x-python",
   "name": "python",
   "nbconvert_exporter": "python",
   "pygments_lexer": "ipython2",
   "version": "2.7.6"
  },
  "pycharm": {
   "stem_cell": {
    "cell_type": "raw",
    "source": [],
    "metadata": {
     "collapsed": false
    }
   }
  }
 },
 "nbformat": 4,
 "nbformat_minor": 0
}